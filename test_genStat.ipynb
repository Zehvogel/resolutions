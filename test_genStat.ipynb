{
 "cells": [
  {
   "cell_type": "code",
   "execution_count": 1,
   "metadata": {},
   "outputs": [
    {
     "name": "stdout",
     "output_type": "stream",
     "text": [
      "Welcome to JupyROOT 6.26/06\n"
     ]
    }
   ],
   "source": [
    "import ROOT"
   ]
  },
  {
   "cell_type": "code",
   "execution_count": 2,
   "metadata": {},
   "outputs": [
    {
     "data": {
      "text/plain": [
       "0"
      ]
     },
     "execution_count": 2,
     "metadata": {},
     "output_type": "execute_result"
    }
   ],
   "source": [
    "ROOT.gSystem.Load(\"libFCCAnalyses\")"
   ]
  },
  {
   "cell_type": "code",
   "execution_count": 3,
   "metadata": {},
   "outputs": [],
   "source": [
    "# I hate this :(\n",
    "_foo = ROOT.dummyLoader"
   ]
  },
  {
   "cell_type": "code",
   "execution_count": 4,
   "metadata": {},
   "outputs": [],
   "source": [
    "%jsroot on"
   ]
  },
  {
   "cell_type": "code",
   "execution_count": 5,
   "metadata": {},
   "outputs": [],
   "source": [
    "df = ROOT.RDataFrame(\"events\",\"reco_output/single_e-_10GeV_90deg_rec_edm4hep.root\")"
   ]
  },
  {
   "cell_type": "code",
   "execution_count": 6,
   "metadata": {},
   "outputs": [],
   "source": [
    "df2 = (df\n",
    "        .Alias(\"MCRecoAssociations0\", \"RecoMCTruthLink#0.index\")\n",
    "        .Alias(\"MCRecoAssociations1\", \"RecoMCTruthLink#1.index\")\n",
    "        .Alias(\"ReconstructedParticles\", \"PandoraPFOs\")\n",
    "        # plan for this stage: create new columns for reco and mc electrons\n",
    "        .Define(\"ReconstructedParticle_gs\",\n",
    "                \"FCCAnalyses::ReconstructedParticle2MC::getRP2MC_genStat(MCRecoAssociations0, MCRecoAssociations1, ReconstructedParticles, MCParticles)\")\n",
    "        #.Define(\"reco_gs1\", \"ReconstructedParticles[ReconstructedParticle_gs == 1]\")\n",
    "        #.Define(\"reco_gs1_charge\", \"FCCAnalyses::ReconstructedParticle::get_charge(reco_gs1)\")\n",
    ")"
   ]
  },
  {
   "cell_type": "code",
   "execution_count": 7,
   "metadata": {},
   "outputs": [],
   "source": [
    "h = df2.Histo1D(\"ReconstructedParticle_gs\")\n",
    "#h_gs1 = df2.Histo1D(\"reco_gs1\")\n",
    "#h_gs1_charge = df2.Histo1D(\"reco_gs1_charge\")"
   ]
  },
  {
   "cell_type": "code",
   "execution_count": null,
   "metadata": {},
   "outputs": [],
   "source": [
    "c = ROOT.TCanvas()\n",
    "h.Draw(\"e1\")\n",
    "c.Draw()"
   ]
  },
  {
   "cell_type": "code",
   "execution_count": null,
   "metadata": {},
   "outputs": [],
   "source": [
    "c_gs1 = ROOT.TCanvas()\n",
    "h_gs1.Draw(\"e1\")\n",
    "c_gs1.Draw()"
   ]
  },
  {
   "cell_type": "code",
   "execution_count": null,
   "metadata": {},
   "outputs": [],
   "source": [
    "c_gs1_charge = ROOT.TCanvas()\n",
    "h_gs1_charge.Draw(\"e1\")\n",
    "c_gs1_charge.Draw()"
   ]
  }
 ],
 "metadata": {
  "kernelspec": {
   "display_name": "Python 3",
   "language": "python",
   "name": "python3"
  },
  "language_info": {
   "codemirror_mode": {
    "name": "ipython",
    "version": 3
   },
   "file_extension": ".py",
   "mimetype": "text/x-python",
   "name": "python",
   "nbconvert_exporter": "python",
   "pygments_lexer": "ipython3",
   "version": "3.9.12"
  },
  "orig_nbformat": 4
 },
 "nbformat": 4,
 "nbformat_minor": 2
}
