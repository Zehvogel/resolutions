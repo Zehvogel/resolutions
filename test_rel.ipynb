{
 "cells": [
  {
   "cell_type": "code",
   "execution_count": 1,
   "metadata": {},
   "outputs": [
    {
     "name": "stdout",
     "output_type": "stream",
     "text": [
      "Welcome to JupyROOT 6.26/06\n"
     ]
    }
   ],
   "source": [
    "import ROOT"
   ]
  },
  {
   "cell_type": "code",
   "execution_count": 2,
   "metadata": {},
   "outputs": [
    {
     "data": {
      "text/plain": [
       "0"
      ]
     },
     "execution_count": 2,
     "metadata": {},
     "output_type": "execute_result"
    }
   ],
   "source": [
    "ROOT.gSystem.Load(\"libFCCAnalyses\")"
   ]
  },
  {
   "cell_type": "code",
   "execution_count": 3,
   "metadata": {},
   "outputs": [],
   "source": [
    "# I hate this :(\n",
    "_foo = ROOT.dummyLoader"
   ]
  },
  {
   "cell_type": "code",
   "execution_count": 4,
   "metadata": {},
   "outputs": [],
   "source": [
    "%jsroot on"
   ]
  },
  {
   "cell_type": "code",
   "execution_count": 5,
   "metadata": {},
   "outputs": [],
   "source": [
    "#f = ROOT.TFile(\"reco_output/test_10_fccrelease_edm4hep.root\")\n",
    "#f = ROOT.TFile(\"reco_output/single_e-_10GeV_90deg_rec_edm4hep.root\")\n",
    "f = ROOT.TFile(\"reco_output/single_e-_10GeV_90deg_lcio_rec_edm4hep.root\")"
   ]
  },
  {
   "cell_type": "code",
   "execution_count": 6,
   "metadata": {},
   "outputs": [
    {
     "data": {
      "text/plain": [
       "81"
      ]
     },
     "execution_count": 6,
     "metadata": {},
     "output_type": "execute_result"
    },
    {
     "name": "stdout",
     "output_type": "stream",
     "text": [
      "***********************************************************************\n",
      "*    Row   * Instance * RecoMCTru * RecoMCTru * RecoMCTru * RecoMCTru *\n",
      "***********************************************************************\n",
      "*        0 *        0 *        49 *         2 *        18 *         2 *\n",
      "*        0 *        1 *        49 *         0 *        18 *         1 *\n",
      "*        0 *        2 *        49 *         1 *        18 *         0 *\n",
      "*        1 *        0 *        49 *         0 *        18 *         0 *\n",
      "*        2 *        0 *        49 *         1 *        18 *         0 *\n",
      "*        2 *        1 *        49 *         0 *        18 *         0 *\n",
      "*        3 *        0 *        49 *         1 *        18 *         0 *\n",
      "*        3 *        1 *        49 *         0 *        18 *         0 *\n",
      "*        4 *        0 *        49 *         0 *        18 *         0 *\n",
      "*        4 *        1 *        49 *         1 *        18 *         1 *\n",
      "*        5 *        0 *        49 *         0 *        18 *         0 *\n",
      "*        6 *        0 *        49 *         0 *        18 *         0 *\n",
      "*        7 *        0 *        49 *         0 *        18 *         0 *\n",
      "*        8 *        0 *        49 *         0 *        18 *         0 *\n",
      "*        9 *        0 *        49 *         0 *        18 *         0 *\n",
      "*       10 *        0 *        49 *         0 *        18 *         4 *\n",
      "*       11 *        0 *        49 *         0 *        18 *         0 *\n",
      "*       11 *        1 *        49 *         2 *        18 *         2 *\n",
      "*       11 *        2 *        49 *         1 *        18 *         3 *\n",
      "*       12 *        0 *        49 *         0 *        18 *         0 *\n",
      "*       12 *        1 *        49 *         2 *        18 *         0 *\n",
      "*       12 *        2 *        49 *         1 *        18 *         2 *\n",
      "*       13 *        0 *        49 *         0 *        18 *         0 *\n",
      "*       13 *        1 *        49 *         1 *        18 *         1 *\n",
      "*       14 *        0 *        49 *         1 *        18 *         4 *\n",
      "*       14 *        1 *        49 *         0 *        18 *         0 *\n",
      "*       15 *        0 *        49 *         0 *        18 *         0 *\n",
      "*       16 *        0 *        49 *         0 *        18 *         0 *\n",
      "*       16 *        1 *        49 *         1 *        18 *         0 *\n",
      "*       17 *        0 *        49 *         0 *        18 *         0 *\n",
      "*       17 *        1 *        49 *         1 *        18 *         0 *\n",
      "*       17 *        2 *        49 *         2 *        18 *         4 *\n",
      "*       18 *        0 *        49 *         1 *        18 *         1 *\n",
      "*       18 *        1 *        49 *         0 *        18 *         0 *\n",
      "*       19 *        0 *        49 *         0 *        18 *         0 *\n",
      "*       20 *        0 *        49 *         1 *        18 *         1 *\n",
      "*       20 *        1 *        49 *         0 *        18 *         0 *\n",
      "*       21 *        0 *        49 *         0 *        18 *         0 *\n",
      "*       22 *        0 *        49 *         0 *        18 *         0 *\n",
      "*       23 *        0 *        49 *         0 *        18 *         0 *\n",
      "*       24 *        0 *        49 *         0 *        18 *         0 *\n",
      "*       25 *        0 *        49 *         1 *        18 *         1 *\n",
      "*       25 *        1 *        49 *         0 *        18 *         0 *\n",
      "*       26 *        0 *        49 *         1 *        18 *         0 *\n",
      "*       26 *        1 *        49 *         2 *        18 *         2 *\n",
      "*       26 *        2 *        49 *         0 *        18 *         0 *\n",
      "*       27 *        0 *        49 *         0 *        18 *         0 *\n",
      "*       27 *        1 *        49 *         1 *        18 *         1 *\n",
      "*       28 *        0 *        49 *         0 *        18 *         0 *\n",
      "*       29 *        0 *        49 *         0 *        18 *         0 *\n",
      "*       29 *        1 *        49 *         1 *        18 *         0 *\n",
      "*       30 *        0 *        49 *         0 *        18 *         0 *\n",
      "*       31 *        0 *        49 *         0 *        18 *         0 *\n",
      "*       32 *        0 *        49 *         0 *        18 *         0 *\n",
      "*       32 *        1 *        49 *         2 *        18 *         1 *\n",
      "*       32 *        2 *        49 *         1 *        18 *         0 *\n",
      "*       32 *        3 *        49 *         3 *        18 *         2 *\n",
      "*       33 *        0 *        49 *         1 *        18 *         2 *\n",
      "*       33 *        1 *        49 *         0 *        18 *         0 *\n",
      "*       34 *        0 *        49 *         0 *        18 *         0 *\n",
      "*       35 *        0 *        49 *         0 *        18 *         0 *\n",
      "*       35 *        1 *        49 *         1 *        18 *         1 *\n",
      "*       36 *        0 *        49 *         1 *        18 *         2 *\n",
      "*       36 *        1 *        49 *         0 *        18 *         0 *\n",
      "*       37 *        0 *        49 *         0 *        18 *         0 *\n",
      "*       38 *        0 *        49 *         0 *        18 *         0 *\n",
      "*       39 *        0 *        49 *         0 *        18 *         0 *\n",
      "*       40 *        0 *        49 *         2 *        18 *         4 *\n",
      "*       40 *        1 *        49 *         1 *        18 *         5 *\n",
      "*       40 *        2 *        49 *         0 *        18 *         0 *\n",
      "*       41 *        0 *        49 *         0 *        18 *         0 *\n",
      "*       42 *        0 *        49 *         1 *        18 *         0 *\n",
      "*       42 *        1 *        49 *         0 *        18 *         0 *\n",
      "*       43 *        0 *        49 *         0 *        18 *         0 *\n",
      "*       44 *        0 *        49 *         0 *        18 *         0 *\n",
      "*       44 *        1 *        49 *         1 *        18 *         0 *\n",
      "*       45 *        0 *        49 *         0 *        18 *         0 *\n",
      "*       46 *        0 *        49 *         0 *        18 *         0 *\n",
      "*       47 *        0 *        49 *         0 *        18 *         0 *\n",
      "*       48 *        0 *        49 *         0 *        18 *         0 *\n",
      "*       49 *        0 *        49 *         0 *        18 *         0 *\n",
      "***********************************************************************\n"
     ]
    }
   ],
   "source": [
    "f.events.SetScanField(0)\n",
    "f.events.Scan(\"RecoMCTruthLink#0.collectionID:RecoMCTruthLink#0.index:RecoMCTruthLink#1.collectionID:RecoMCTruthLink#1.index\")\n"
   ]
  },
  {
   "cell_type": "code",
   "execution_count": 7,
   "metadata": {},
   "outputs": [],
   "source": [
    "#f.events.SetScanField(0)\n",
    "#f.metadata.Scan(\"m_collectionIDs:m_names\")"
   ]
  },
  {
   "cell_type": "code",
   "execution_count": null,
   "metadata": {},
   "outputs": [],
   "source": []
  },
  {
   "cell_type": "code",
   "execution_count": null,
   "metadata": {},
   "outputs": [],
   "source": []
  }
 ],
 "metadata": {
  "kernelspec": {
   "display_name": "Python 3",
   "language": "python",
   "name": "python3"
  },
  "language_info": {
   "codemirror_mode": {
    "name": "ipython",
    "version": 3
   },
   "file_extension": ".py",
   "mimetype": "text/x-python",
   "name": "python",
   "nbconvert_exporter": "python",
   "pygments_lexer": "ipython3",
   "version": "3.9.12"
  },
  "orig_nbformat": 4
 },
 "nbformat": 4,
 "nbformat_minor": 2
}
