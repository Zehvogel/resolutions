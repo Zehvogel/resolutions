{
 "cells": [
  {
   "cell_type": "code",
   "execution_count": 1,
   "metadata": {},
   "outputs": [
    {
     "name": "stdout",
     "output_type": "stream",
     "text": [
      "Welcome to JupyROOT 6.26/10\n"
     ]
    }
   ],
   "source": [
    "import ROOT"
   ]
  },
  {
   "cell_type": "code",
   "execution_count": 2,
   "metadata": {},
   "outputs": [
    {
     "data": {
      "text/plain": [
       "0"
      ]
     },
     "execution_count": 2,
     "metadata": {},
     "output_type": "execute_result"
    }
   ],
   "source": [
    "ROOT.gSystem.Load(\"libFCCAnalyses\")"
   ]
  },
  {
   "cell_type": "code",
   "execution_count": 3,
   "metadata": {},
   "outputs": [],
   "source": [
    "# I hate this :(\n",
    "_foo = ROOT.dummyLoader"
   ]
  },
  {
   "cell_type": "code",
   "execution_count": 4,
   "metadata": {},
   "outputs": [],
   "source": [
    "%jsroot on"
   ]
  },
  {
   "cell_type": "code",
   "execution_count": 5,
   "metadata": {},
   "outputs": [],
   "source": [
    "df = ROOT.RDataFrame(\"events\",\"reco_output/single_e-_10GeV_90deg_lcio_rec_edm4hep.root\")"
   ]
  },
  {
   "cell_type": "code",
   "execution_count": 6,
   "metadata": {},
   "outputs": [
    {
     "ename": "runtime_error",
     "evalue": "ROOT::RDF::RInterface<ROOT::Detail::RDF::RLoopManager,void> ROOT::RDF::RInterface<ROOT::Detail::RDF::RLoopManager,void>::Alias(basic_string_view<char,char_traits<char> > alias, basic_string_view<char,char_traits<char> > columnName) =>\n    runtime_error: Unknown column: PandoraPFOs",
     "output_type": "error",
     "traceback": [
      "\u001b[0;31m---------------------------------------------------------------------------\u001b[0m",
      "\u001b[0;31mruntime_error\u001b[0m                             Traceback (most recent call last)",
      "Cell \u001b[0;32mIn[6], line 4\u001b[0m\n\u001b[1;32m      1\u001b[0m df2 \u001b[39m=\u001b[39m (df\n\u001b[1;32m      2\u001b[0m         \u001b[39m.\u001b[39mAlias(\u001b[39m\"\u001b[39m\u001b[39mMCRecoAssociations0\u001b[39m\u001b[39m\"\u001b[39m, \u001b[39m\"\u001b[39m\u001b[39mRecoMCTruthLink#0.index\u001b[39m\u001b[39m\"\u001b[39m)\n\u001b[1;32m      3\u001b[0m         \u001b[39m.\u001b[39mAlias(\u001b[39m\"\u001b[39m\u001b[39mMCRecoAssociations1\u001b[39m\u001b[39m\"\u001b[39m, \u001b[39m\"\u001b[39m\u001b[39mRecoMCTruthLink#1.index\u001b[39m\u001b[39m\"\u001b[39m)\n\u001b[0;32m----> 4\u001b[0m         \u001b[39m.\u001b[39mAlias(\u001b[39m\"\u001b[39m\u001b[39mReconstructedParticles\u001b[39m\u001b[39m\"\u001b[39m, \u001b[39m\"\u001b[39m\u001b[39mPandoraPFOs\u001b[39m\u001b[39m\"\u001b[39m)\n\u001b[1;32m      5\u001b[0m         \u001b[39m.\u001b[39mDefine(\u001b[39m\"\u001b[39m\u001b[39mMCParticle_gs\u001b[39m\u001b[39m\"\u001b[39m, \u001b[39m\"\u001b[39m\u001b[39mFCCAnalyses::MCParticle::get_genStatus(MCParticles)\u001b[39m\u001b[39m\"\u001b[39m)\n\u001b[1;32m      6\u001b[0m )\n",
      "\u001b[0;31mruntime_error\u001b[0m: ROOT::RDF::RInterface<ROOT::Detail::RDF::RLoopManager,void> ROOT::RDF::RInterface<ROOT::Detail::RDF::RLoopManager,void>::Alias(basic_string_view<char,char_traits<char> > alias, basic_string_view<char,char_traits<char> > columnName) =>\n    runtime_error: Unknown column: PandoraPFOs"
     ]
    }
   ],
   "source": [
    "df2 = (df\n",
    "        .Alias(\"MCRecoAssociations0\", \"RecoMCTruthLink#0.index\")\n",
    "        .Alias(\"MCRecoAssociations1\", \"RecoMCTruthLink#1.index\")\n",
    "        .Alias(\"ReconstructedParticles\", \"PandoraPFOs\")\n",
    "        .Define(\"MCParticle_gs\", \"FCCAnalyses::MCParticle::get_genStatus(MCParticles)\")\n",
    ")"
   ]
  },
  {
   "cell_type": "code",
   "execution_count": null,
   "metadata": {},
   "outputs": [],
   "source": [
    "h_gs = df2.Histo1D(\"MCParticle_gs\")"
   ]
  },
  {
   "cell_type": "code",
   "execution_count": null,
   "metadata": {},
   "outputs": [],
   "source": [
    "c_gs = ROOT.TCanvas()\n",
    "h_gs.Draw()\n",
    "c_gs.Draw()"
   ]
  },
  {
   "cell_type": "code",
   "execution_count": null,
   "metadata": {},
   "outputs": [],
   "source": []
  }
 ],
 "metadata": {
  "kernelspec": {
   "display_name": "Python 3",
   "language": "python",
   "name": "python3"
  },
  "language_info": {
   "codemirror_mode": {
    "name": "ipython",
    "version": 3
   },
   "file_extension": ".py",
   "mimetype": "text/x-python",
   "name": "python",
   "nbconvert_exporter": "python",
   "pygments_lexer": "ipython3",
   "version": "3.10.10"
  },
  "orig_nbformat": 4
 },
 "nbformat": 4,
 "nbformat_minor": 2
}
